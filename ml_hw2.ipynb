{
 "cells": [
  {
   "cell_type": "markdown",
   "id": "b624b3f9",
   "metadata": {},
   "source": [
    "<h1>Machine Learning Homework #2</h1>\n",
    "\n",
    "**Esther Lyon Delsordo**"
   ]
  },
  {
   "cell_type": "code",
   "execution_count": 3,
   "id": "d16d2210",
   "metadata": {},
   "outputs": [],
   "source": [
    "from IPython.display import Image\n",
    "import numpy as np\n",
    "import matplotlib.pyplot as plt\n",
    "import random"
   ]
  },
  {
   "cell_type": "markdown",
   "id": "c713fef9",
   "metadata": {},
   "source": [
    "<h2>Problem 1: Full Bayesian Inference</h2>\n",
    "We have seen that we can estimate the maximum likelihood estimators for a variety of distributions from\n",
    "some observations. However it is also possible to infer full posterior distributions, rather than just point\n",
    "estimators for some useful cases.\n",
    "Coin flips\n",
    "Consider first the problem of trying to infer the weighted-ness $\\theta$ of a coin. In particular, use Bayes’ theorem\n",
    "to show that the posterior distribution\n",
    "$$P(\\theta|X)$$\n",
    "is Beta-distributed, assuming that the likelihood \n",
    "$$P(X|\\theta) = \\prod^m_{i=1} Bernoulli(X_i; \\theta)$$ \n",
    "is independent and Bernoulli distributed and the prior $P(\\theta) = Beta(\\theta; α, β)$ is Beta-distributed with known hyperparameters $α$ and $β$. \n",
    "(If you don’t know where to start with this: first, look up the PDF for a beta distribution, which you should use\n",
    "for the prior. Multiply it with the likelihood function. Collect terms and perhaps rename these collections\n",
    "so that the resulting posterior again has the PDF of a beta distribution).\n"
   ]
  },
  {
   "cell_type": "markdown",
   "id": "0dea4724",
   "metadata": {},
   "source": [
    "**Ans:** The beta distribution, \n",
    "$$\n",
    "Beta(a,b) = \\frac{\\theta^{a-1}(1-\\theta)^{b-1}}{B(a,b)}\n",
    "$$\n",
    "where B is a normalization function that is constant with respect to $\\theta$, can be used for our prior, $P(\\theta)$. By Bayes Theorem we can write:\n",
    "$$\n",
    "P(\\theta|X) = \\frac{P(X|\\theta)P(\\theta)}{P(X)}\n",
    "$$\n",
    "Because $P(X)$ is also constant with respect to $\\theta$, we can say:\n",
    "$$\n",
    "\\frac{P(X|\\theta)P(\\theta)}{P(X)} \\propto P(X|\\theta)P(\\theta)\n",
    "$$\n",
    "We need to find our posterior now. For the Bernoulli distribution we have:\n",
    "$$\n",
    "P(X|\\theta) \\propto \\theta^z (1-\\theta)^{m-z}\n",
    "$$\n",
    "where $z = \\sum^m_{i=1}x_i$. We can use the Beta distribution for our prior, ignoring the denominator as below:\n",
    "$$\n",
    "P(\\theta) \\propto \\theta^{a-1}(1-\\theta)^{b-1}\n",
    "$$\n",
    "Then, with this information we have:\n",
    "$$\n",
    "P(\\theta|X) \\propto \\theta^{a+z-1}(1-\\theta)^{m+b-z-1}\n",
    "$$\n",
    "If we name two new variables, $a' = a + z$ and $b'=m+b-z$, we get a result that is in the same format as the Beta distribution:\n",
    "$$\n",
    "\\therefore P(\\theta|X) = \\frac{\\theta^{a'-1}(1-\\theta)^{b'-1}}{B(a',b')}\n",
    "$$\n",
    "Showing that the Bernoulli posterior distribution is also beta distributed. (The beta distribution is a conjugate prior for the Bernoulli distribution)."
   ]
  },
  {
   "cell_type": "code",
   "execution_count": 10,
   "id": "debe91f9",
   "metadata": {},
   "outputs": [
    {
     "data": {
      "text/plain": [
       "[<matplotlib.lines.Line2D at 0x263beb6a640>]"
      ]
     },
     "execution_count": 10,
     "metadata": {},
     "output_type": "execute_result"
    },
    {
     "data": {
      "image/png": "[encoded data removed]",
      "text/plain": [
       "<Figure size 432x288 with 1 Axes>"
      ]
     },
     "metadata": {
      "needs_background": "light"
     },
     "output_type": "display_data"
    }
   ],
   "source": [
    "# Doug's in class example\n",
    "from scipy.special import beta as Beta\n",
    "\n",
    "def BetaPDF(theta,alpha,beta):\n",
    "    return 1./Beta(alpha,beta)*theta**(alpha-1)*(1-theta)**(beta-1)\n",
    "\n",
    "thetas = np.linspace(0,1,101)\n",
    "\n",
    "alpha = 6.0\n",
    "beta = 6.0\n",
    "\n",
    "alpha_hat = 95 + alpha\n",
    "beta_hat = 5 + beta # 5 = 100 - 95, e.g. we got 95 heads and 5 tails with a fair coin\n",
    "\n",
    "plt.plot(thetas, BetaPDF(thetas,alpha_hat,beta_hat))\n",
    "plt.plot(thetas, BetaPDF(thetas,alpha,beta))"
   ]
  },
  {
   "cell_type": "markdown",
   "id": "ba04bddb",
   "metadata": {},
   "source": [
    "<h2>Problem 2: Feature augmentation</h2>\n",
    "<h3>(a)</h3>\n",
    "Suppose that you have a dataset that looks like Figure 1, and you would to perform linear regression on it.\n",
    "Describe your approach for constructing a design matrix $\\Phi$ for this problem. Specifically, what would you place in each of the columns of $\\Phi$?"
   ]
  },
  {
   "cell_type": "code",
   "execution_count": 7,
   "id": "964b886b",
   "metadata": {},
   "outputs": [
    {
     "data": {
      "text/html": [
       "<img src=\"Fig2_2a.png\" width=\"600\" alt=\"Figure 2a\"/>"
      ],
      "text/plain": [
       "<IPython.core.display.Image object>"
      ]
     },
     "execution_count": 7,
     "metadata": {},
     "output_type": "execute_result"
    }
   ],
   "source": [
    "Image(alt=\"Figure 2a\", url=\"Fig2_2a.png\", width=600)"
   ]
  },
  {
   "cell_type": "markdown",
   "id": "01ad5b40",
   "metadata": {},
   "source": [
    "The data resemble the curve of a 6th degree polynomial. The design matrix would need to contain the following columns: \n",
    "$$\\vec{1}, \\vec{x}, \\vec{x^2}, \\vec{x^3}, ..., \\vec{x^6}$$\n",
    "The shape of the curve would be adjusted by the parameter vector, $w$ when it is multiplied with $\\Phi$."
   ]
  },
  {
   "cell_type": "markdown",
   "id": "6aa51a47",
   "metadata": {},
   "source": [
    "<h3>(b)</h3> Same question as above. Would the same approach that you used in Part 1, also work here? Why or why\n",
    "not?"
   ]
  },
  {
   "cell_type": "code",
   "execution_count": 6,
   "id": "055d6bf6",
   "metadata": {},
   "outputs": [
    {
     "data": {
      "text/html": [
       "<img src=\"Fig2_2b.png\" width=\"600\" alt=\"Figure 2b\"/>"
      ],
      "text/plain": [
       "<IPython.core.display.Image object>"
      ]
     },
     "execution_count": 6,
     "metadata": {},
     "output_type": "execute_result"
    }
   ],
   "source": [
    "Image(alt=\"Figure 2b\", url=\"Fig2_2b.png\", width=600)"
   ]
  },
  {
   "cell_type": "markdown",
   "id": "488fc9cb",
   "metadata": {},
   "source": [
    "No, the approach from before would not be able to account for that many maxima and minima in an efficient way. You would want to use a sinusoidal function such as cosine in the design matrix, but there would be no way to adjust the period of the sinusoid, since a parameter must be passed to the inside of the sinusoid, so this approach will not work at all."
   ]
  },
  {
   "cell_type": "markdown",
   "id": "77fc778c",
   "metadata": {},
   "source": [
    "<h2>Problem 3: Gradient Descent</h2>\n",
    "<h3>(a)</h3>\n",
    "Consider the function\n",
    "$$\\mathcal{L}(\\vec\\theta) = \\frac{1}{2}(\\theta_1^2 - \\theta_2)^2 + \\frac{1}{2}(\\theta_1 - 1)^2$$\n",
    "Derive an expression for the gradient of this function with respect to $\\vec \\theta$. Implement some code that uses\n",
    "gradient descent to find its minimum value. Create a plot similar to those we did in class that illustrates\n",
    "your algorithm’s progress to this minimum beginning from at least 3 randomly selected initial positions."
   ]
  },
  {
   "cell_type": "markdown",
   "id": "c2cf14f9",
   "metadata": {},
   "source": [
    "To find the gradient we start by calculating partial derivatives with respect to $\\theta_1$ and $\\theta_2$:\n",
    "$$\n",
    "\\begin{eqnarray}\n",
    "\\frac{\\partial\\mathcal{L}}{\\partial \\theta_1} &=& 2\\theta_1(\\theta_1^2 - \\theta_2)+\\theta_1-1\n",
    "\\\\ \\frac{\\partial\\mathcal{L}}{\\partial \\theta_2} &=& \\theta_2 - \\theta_1^2\n",
    "\\\\ \\nabla_{\\vec \\theta}\\mathcal{L} &=& [2\\theta_1(\\theta_1^2 - \\theta_2)+\\theta_1-1, \\theta_2 - \\theta_1^2]\n",
    "\\end{eqnarray}\n",
    "$$"
   ]
  },
  {
   "cell_type": "code",
   "execution_count": 3,
   "id": "dc9ba6a5",
   "metadata": {},
   "outputs": [],
   "source": [
    "# Loss function\n",
    "def L(theta):\n",
    "    L_ = 0.5*(theta[0]**2 - theta[1])**2 + 0.5*(theta[0]-1)**2\n",
    "    return L_\n",
    "\n",
    "# Gradient function\n",
    "def L_grad(theta):\n",
    "    dtheta1 = 2*theta[0]*(theta[0]**2-theta[1]) + theta[0] - 1\n",
    "    dtheta2 = theta[1] - theta[0]**2\n",
    "    return np.array([dtheta1,dtheta2])"
   ]
  },
  {
   "cell_type": "code",
   "execution_count": 20,
   "id": "22b6589b",
   "metadata": {},
   "outputs": [
    {
     "data": {
      "text/plain": [
       "<matplotlib.colorbar.Colorbar at 0x25b1635f790>"
      ]
     },
     "execution_count": 20,
     "metadata": {},
     "output_type": "execute_result"
    },
    {
     "data": {
      "image/png": "[encoded data removed]",
      "text/plain": [
       "<Figure size 432x288 with 2 Axes>"
      ]
     },
     "metadata": {
      "needs_background": "light"
     },
     "output_type": "display_data"
    }
   ],
   "source": [
    "# Pick an eeta\n",
    "eeta = 0.02\n",
    "\n",
    "# Plot gradient descent from 3 different starting points\n",
    "for walker in range(3):\n",
    "    # Generate a random starting point\n",
    "    theta = np.array([np.random.randint(-3,3),np.random.randint(-3,3)])\n",
    "\n",
    "    # Build a vector of points to trace\n",
    "    theta_vec = [theta]\n",
    "    for i in range(1, 250):\n",
    "        theta = theta - eeta*L_grad(theta)\n",
    "        theta_vec.append(theta)\n",
    "    theta_vec = np.array(theta_vec)\n",
    "\n",
    "    # Define grid points for each parameter in 1D\n",
    "    n_samples = 21\n",
    "    theta_1_range = np.linspace(-3,3,n_samples)\n",
    "    theta_2_range = np.linspace(-3,3,n_samples)\n",
    "\n",
    "    # Take the cartesian product of these grid points\n",
    "    theta_1,theta_2 = np.meshgrid(theta_1_range,theta_2_range)\n",
    "\n",
    "    L_grid = np.zeros_like(theta_1)\n",
    "    for i in range(n_samples):\n",
    "        for j in range(n_samples):\n",
    "            L_grid[i,j] = L([theta_1[i,j],theta_2[i,j]])\n",
    "\n",
    "    plt.contourf(theta_1,theta_2,L_grid)\n",
    "    plt.xlabel('$theta_1$')\n",
    "    plt.ylabel('$theta_2$')\n",
    "\n",
    "    # Plot the path\n",
    "    plt.plot(theta_vec[:,0], theta_vec[:,1])\n",
    "    \n",
    "plt.colorbar()"
   ]
  },
  {
   "cell_type": "markdown",
   "id": "e1b0742c",
   "metadata": {},
   "source": [
    "<h3>(c)</h3>\n",
    "Describe, as specifically as you can, why it is not possible to solve directly for the minimum values of the\n",
    "functions that you worked with above. Describe how this relates to logistic regression."
   ]
  },
  {
   "cell_type": "markdown",
   "id": "4a923e1a",
   "metadata": {},
   "source": [
    "Minimizing the function from part A has an analytical solution for $\\vec \\theta$. However, we don't always know if there is an analytical solution, and gradient descent gives us a solution we can trust.\n",
    "In logistic regression, the cost function has no analytical solution, so gradient descent is one way of approaching the problem."
   ]
  },
  {
   "cell_type": "code",
   "execution_count": null,
   "id": "1d032b9a",
   "metadata": {},
   "outputs": [],
   "source": []
  }
 ],
 "metadata": {
  "kernelspec": {
   "display_name": "Python 3 (ipykernel)",
   "language": "python",
   "name": "python3"
  },
  "language_info": {
   "codemirror_mode": {
    "name": "ipython",
    "version": 3
   },
   "file_extension": ".py",
   "mimetype": "text/x-python",
   "name": "python",
   "nbconvert_exporter": "python",
   "pygments_lexer": "ipython3",
   "version": "3.9.12"
  }
 },
 "nbformat": 4,
 "nbformat_minor": 5
}
