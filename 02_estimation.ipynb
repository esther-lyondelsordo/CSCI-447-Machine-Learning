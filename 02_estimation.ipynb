{
 "cells": [
  {
   "cell_type": "markdown",
   "id": "artistic-fraction",
   "metadata": {},
   "source": [
    "# Topic 2: Estimation and the Bayes Classifier\n",
    " \n",
    "## Associated Reading: Murphy 2.4, 2.5\n",
    "\n",
    "### 2.1 Parameterized probability\n",
    "In the above examples, we've been using something called a *probability table*, in which we explicitly enumerate all possible cases\n",
    "\n",
    "| y | P(Y=y)   |\n",
    "|------|------|\n",
    "|   Orange  | 0.25 |\n",
    "|   Kiwi    | 0.75 |\n",
    "\n",
    "This table is a valid way to specify the function from $y$ to its probability.  However, in general we'd like to be able to write these tables more succinctly, particularly when the number of possible values that $y$ could take becomes very large: indeed, it's reasonable to imagine that $Y$ may be a real-valued random variable, in which case there would be an infinite number of entries in the probability table (this actually breaks down in some sense, because the probability of drawing any particular real value from a distribution is zero: instead we think about probability densities.  More soon).  Instead of writing down tables of probabilities, we'll instead introduce a *parameterized* function that maps from a given outcome to a probability.  We'll work with a few of these distributions throughout the course, but we'll start with the simplest, and among the most useful.  \n",
    "\n",
    "### 2.2 The Bernoulli Distribution\n",
    "The Bernoulli distribution is the distribution that gives the probability of two mutually exclusive events.  The most common example of such a scenario is a coin flip, but, as we'll see, there are lots of other situations that can be modelled similarly.  The Bernoulli distribution has the *probability mass function* \n",
    "$$ P(Y=y) = \\mathrm{Bernoulli}(Y=y;\\theta) = \\theta^y (1-\\theta)^{1-y} $$\n",
    "where $y\\in\\{0,1\\}$ indicates \"success\" or \"failure\".  **For a fair coin, what should be the value of $\\theta$?  What is P(Y=1) and P(Y=0) for a fair coin?  What is the parameter that controls this function?**\n",
    "\n",
    "This isn't actually very different from a probability table. If we were to look at the table giving the probability of orange versus kiwi, we might encode \"draw an orange $\\equiv 1$, in which case the table could equivalently be written as $P(Y) = \\mathrm{Bernoulli}(Y;\\theta=0.25)$.  Just for clarity, it's worth evaluating this function for the values 1 and 0:\n",
    "$$\n",
    "P(Y=1) = \\theta^1 (1-\\theta)^0 = \\theta\n",
    "$$\n",
    "$$\n",
    "P(Y=0) = \\theta^0 (1-\\theta)^1 = 1-\\theta.\n",
    "$$\n",
    "Thus, the probability of drawing a 1 (or a heads, or an orange) is $\\theta$, and the probability of drawing a 0 (or a tails, or a kiwi) is $1-\\theta$.  Cool, but where does $\\theta$ come from?    \n",
    "\n",
    "### 2.3 Inferring $\\theta$\n",
    "Imagine a scenario: we are given a coin, and we want to determine whether it is fair (i.e. $\\theta=0.5$) or not.  Of course, we have access to flips from the coin (to begin with, let's imagine that we have the result of a single coin flip).  Bayes' theorem then would be\n",
    "$$\n",
    "P(\\theta|Y=y) = \\frac{P(Y=y|\\theta)P(\\theta)}{P(Y=y)},\n",
    "$$\n",
    "which is to say that if we have the result of some coin flips $Y=y$, we can *update* our belief in what $\\theta$ should be.  Note that using Bayes' theorem gives us a probability distribution over $\\theta$, which is real-valued!  Similarly, $P(\\theta)$, which is the prior is also a probability distribution over $\\theta$.  For a judicious choice of the prior distribution (a Beta distribution), it turns our that we can actually evaluate Bayes' theorem in closed form exactly for this problem.  However, doing full Bayesian inference of this type is usually pretty hard (methods for doing this would be the subject of a Bayesian Statistics class, although they will show up in CSCI 557: Deep Learning as well).  **For now, let's punt, by which I mean let's see if we can figure out a way to solve a simpler problem.**  In particular, we'll try to solve the problem of estimating just the maximum of the posterior distribution, the most probable value of $\\theta$ given the observed coin flip, which turns out to be much easier.\n",
    "\n",
    "First, let's start with the prior distribution $P(\\theta)$.  Recall that this encodes our belief in what $\\theta$ should be prior to having looked at any data.  It asks the question, \"do you trust the coin flipper?\"  A very easy assumption, and one that will greatly simplify this particular analysis is to say that *we have no idea:* before looking at the data, any value of $\\theta$ is as likely as any other.  The way that we can encode this assumption is to say that $P(\\theta)=c$, where $c$ is some constant.  Thus we now have that\n",
    "$$\n",
    "P(\\theta|Y=y) = \\frac{c P(Y=y|\\theta)}{P(Y=y)}.\n",
    "$$\n",
    "Here's an important fact that you'll want to remember for the rest of your life: scaling the function to be minimized by a constant doesn't make a difference in that maximum's location.  $c$ is not a function of $\\theta$, so it won't have any effect on determining which value of $\\theta$ maximizes the posterior probability.  However, we could also say the same thing about the denominator: it's not a function of $\\theta$, so it doesn't influence where the maximum of the posterior is with respect to $\\theta$.  Thus we could simply rewrite Bayes' theorem as:\n",
    "$$\n",
    "P(\\theta|Y=y) \\propto P(Y=y|\\theta),\n",
    "$$\n",
    "with the symbol $\\propto$ meaning 'proportional to' or equal up to a multiplicative constant.  For the purposes of finding the maximum, 'proportional to' is just as good as 'equal to.'  "
   ]
  },
  {
   "cell_type": "code",
   "execution_count": 1,
   "id": "medium-racing",
   "metadata": {},
   "outputs": [
    {
     "data": {
      "image/png": "[encoded data removed]",
      "text/plain": [
       "<Figure size 432x288 with 1 Axes>"
      ]
     },
     "metadata": {
      "needs_background": "light"
     },
     "output_type": "display_data"
    },
    {
     "name": "stdout",
     "output_type": "stream",
     "text": [
      "50 50\n"
     ]
    }
   ],
   "source": [
    "import numpy as np\n",
    "import matplotlib.pyplot as plt\n",
    "\n",
    "x = np.linspace(-1,1,101)\n",
    "y = x**2 + 1\n",
    "logy = np.log(y)\n",
    "plt.plot(x,y)\n",
    "plt.plot(x,logy)\n",
    "plt.show()\n",
    "print(np.argmin(y),np.argmin(logy))"
   ]
  },
  {
   "cell_type": "markdown",
   "id": "descending-queue",
   "metadata": {},
   "source": [
    "Now, all that's left is to specify the *likelihood*.  Recall that the likelihood is asking the question: if I assume a model, what's the probability of observing the data?  Specific to this problem, it's asking: if I know $\\theta$, how likely is it that I should have observed a heads?  Of course, we already know how to model that situation: that's just the Bernoulli distribution that we developed above.  For a single coin flip, that's\n",
    "$$\n",
    "P(\\theta|Y=y) \\propto P(Y=y|\\theta) = \\theta^y (1-\\theta)^{1-y}.\n",
    "$$\n",
    "Let's make it explicit that we want to find the most probable value of theta:\n",
    "\\begin{align}\n",
    "\\hat{\\theta} & = \\mathrm{argmax}_\\theta P(\\theta|Y=y) \\\\\n",
    "             & = \\mathrm{argmax}_\\theta P(Y=y|\\theta) \\\\\n",
    "             & = \\mathrm{argmax}_\\theta \\theta^y (1-\\theta)^{1-y}.\n",
    "\\end{align}\n",
    "This says that the most likely value of $\\theta$ is the one that makes the data most likely to have occurred.  Often times, this is called *maximum likelihood estimation*.  Now all we need to do is figure out how to maximize it!\n",
    "\n",
    "It turns out that it will be much easier to maximize the *logarithm* of the probability.  It will be clearer why this is easier in a moment; rest assured, since logarithms are a monotonic function (i.e. $x\\ge y \\iff \\ln x \\ge \\ln y$), taking the logarithm does not change the location of the minimum.  The log of the likelihood is \n",
    "$$\n",
    "\\ln P(Y=y|\\theta) = y \\ln \\theta + (1-y) \\ln (1-\\theta)\n",
    "$$\n",
    "Setting this equal to zero and taking the derivative with respect to theta yields\n",
    "$$\n",
    "\\frac{y}{\\theta} - \\frac{1-y}{1-\\theta} = 0 \\rightarrow \\theta = y.\n",
    "$$\n",
    "This is sort of a funny result: it says that if we flip a coin one time and it comes up heads, our best option is to assume that the next coin flip will also be heads, with 100% certainty.  This is, however, exactly what we asked of Bayes' theorem: by using an uninformative prior distribution, we said that $\\theta$ could be *any value with equal probability*.  What else do we have to go on then?  Just the data, and the data tells us that 100% of the time (so far), the coin comes up heads.  \n",
    "\n",
    "#### ASIDE: The influence of a prior distribution\n",
    "This is obviously not an ideal model of coin flips, and it perhaps the simplest case of overfitting imaginable.  We have two paths forward.\n",
    "\n",
    "First, we could specify a more sensible prior distribution on $\\theta$.  We don't need to go through the math on this, but the typical way forward would be to assume that $\\theta$ is distributed according to a [Beta distribution](https://en.wikipedia.org/wiki/Beta_distribution).   Setting such a prior can be viewed as including *synthetic observations*.  The resulting best estimate (called Maximum a Posteriori estimate or MAP) of $\\theta$ is given by\n",
    "$$\n",
    "\\theta = \\frac{y + M^+}{1 + M^+ + M^-},\n",
    "$$\n",
    "where $M^+$ is the number of synthetic heads, and $M^-$ is the number of synthetic tails.  As an example, if we assumed that we had taken ten synthetic coin flips, five of which were heads, and five of which were tails, and our *real* flip is a heads.  Then we have that\n",
    "$$\n",
    "\\theta = \\frac{ 1 + 5}{1 + 5 +5} = \\frac{6}{11}.\n",
    "$$\n",
    "Thus, our prior belief that the coin was fair (because we made our synthetic coin flips equal between heads and tails) keeps our one *new* coin flip from adjusting our belief in the value of $\\theta$ too much.\n",
    "\n",
    "Secondly, we could simply collect more data.\n",
    "\n",
    "**How about for two coin flips?** \n",
    "\n",
    "Inferring the degree of weightedness for a coin based on a single coin flip is tenuous at best: if we really want to know, we should probably flip the coin at least twice.  If we assume that the results of the two coin flips are not directly dependent upon one another (which is to say that they are *independent*), then we can simply write this as \n",
    "$$\n",
    "P(Y_1=y_1,Y_2=y_2|\\theta) = P(Y_1=y_1|\\theta) P(Y_2=y_2|\\theta)\n",
    "$$\n",
    "More generally, for an arbitrary number of coin flips $m$, we have that\n",
    "$$\n",
    "P(\\mathbf{y}|\\theta) = \\prod_{i=1}^m \\theta^{y_i} (1-\\theta)^{1-y_i}\n",
    "$$,\n",
    "where $\\mathbf{y}$ is a vector of length $m$ containing the results of our $m$ coin flips.\n",
    "\n",
    "While not easily done in general, for this simple problem we can actually plot this likelihood as a function of $\\theta$ for a simulated set of coin flips."
   ]
  },
  {
   "cell_type": "code",
   "execution_count": 2,
   "id": "fewer-container",
   "metadata": {},
   "outputs": [
    {
     "data": {
      "image/png": "[encoded data removed]",
      "text/plain": [
       "<Figure size 432x288 with 1 Axes>"
      ]
     },
     "metadata": {
      "needs_background": "light"
     },
     "output_type": "display_data"
    }
   ],
   "source": [
    "import numpy as np\n",
    "import scipy.stats as ss\n",
    "import matplotlib.pyplot as plt\n",
    "# random coin flips\n",
    "y = np.random.randint(0,2,50)\n",
    "\n",
    "# Array of thetas\n",
    "theta = np.linspace(0,1,101)\n",
    "# Array to hold the posterior values of theta\n",
    "\n",
    "# Move the product inside the exponent to produce a sum\n",
    "post = theta**np.sum(y)*(1-theta)**np.sum(1-y)\n",
    "    \n",
    "# Plot the resulting function of theta\n",
    "plt.plot(theta,post)\n",
    "plt.show()"
   ]
  },
  {
   "cell_type": "markdown",
   "id": "other-setting",
   "metadata": {},
   "source": [
    "Now, we just need to find the value of $\\theta$ that maximizes this function.  We do this exactly the same way as above: by taking the derivative of likelihood and setting it equal to zero.  Taking derivatives of *products* is hard (think about the product rule from calculus), and this is the real reason why we like working with the logarithm instead: it converts products to sums!  Taking the log is pretty easy:\n",
    "$$\n",
    "\\ln \\left[\\prod_{i=1}^m \\theta^{y_i} (1-\\theta)^{1-y_i}\\right] = \\sum_{i=1}^m y_i \\ln \\theta + (1-y_i)\\ln (1-\\theta)\n",
    "$$\n",
    "Note that this quantity, the logarithm of the Bernoulli distribution, is also called the *cross-entropy*.  We will return to it later.  Now, all that's left is to take the derivative\n",
    "$$\n",
    "\\frac{\\partial}{\\partial \\theta}\\sum_{i=1}^m y_i \\ln \\theta + (1-y_i)\\ln (1-\\theta) = \\left[\\sum_{i=1}^m \\frac{y_i}{\\theta} - \\frac{1-y_i}{1-\\theta}\\right],\n",
    "$$\n",
    "set it equal to zero and solve for $\\theta$\n",
    "$$\n",
    "\\theta = \\frac{\\sum_{i=1}^m y_i}{m}\n",
    "$$\n",
    "\n",
    "This specific result is called the Maximum Likelihood Estimator (MLE) for a Bernoulli model.  Given the data, it tells us what the most likely value for $\\theta$, or alternatively, whether the coin is loaded or not."
   ]
  },
  {
   "cell_type": "markdown",
   "id": "auburn-berlin",
   "metadata": {},
   "source": [
    "## In-class exercise: Ham vs Spam\n",
    "One use of the naive Bayes classifier, which is still in practical use today, is as a spam filter.  Consider the corpus of text messages packaged with this homework, which are each labelled as either 'spam' or 'ham'.  In this case, naive Bayes utilizes a Bernoulli model that quantifies the probability of a given word given that the message is either spam or ham.  For example, investigating the text messages here, we find that the word *draw* shows up in spam 27 times, implying that\n",
    "$$P(X=\\mathrm{draw}|Y=\\mathrm{spam}) = \\frac{27}{25748} = \\frac{m_{draw,spam}}{m_{spam}},$$\n",
    "while in the case of ham, it shows up 5 times so\n",
    "$$P(X=\\mathrm{draw}|Y=\\mathrm{ham}) = \\frac{5}{67148} = \\frac{m_{draw,ham}}{m_{ham}}.$$\n",
    "Thus we see that the word 'draw' shows up with a much higher frequency in spam e-mails than in ham.\n",
    "\n",
    "While this is not particularly strong evidence on its own, we can create a powerful classifier by using the naive assumption in conjunction with all the words in a given message:\n",
    "$$ P(Y=\\mathrm{ham}|X=x) \\propto P(Y=\\mathrm{ham}) \\prod_{i=1}^n P(X_i=x_i|Y=\\mathrm{ham}), $$\n",
    "$$ P(Y=\\mathrm{spam}|X=x) \\propto P(Y=\\mathrm{spam}) \\prod_{i=1}^n P(X_i=x_i|Y=\\mathrm{spam}), $$\n",
    "where $x_i$ are the words in a given message. \n",
    "\n",
    "Your task is to write such a classifier.  I have taken the somewhat tedious step of parsing the data for you, yielding the variables *word_dictionary*, which contains the ham and spam counts for each word, as well as *training_labels*, which provides the spam/ham labels for each text message.  I have also parsed a set of test data: *test_messages* is a list, each entry containing another list of the words in the text message, as well as *test_labels* which contains the spam/ham label for each message."
   ]
  },
  {
   "cell_type": "code",
   "execution_count": 3,
   "id": "friendly-laugh",
   "metadata": {},
   "outputs": [],
   "source": [
    "import numpy as np\n",
    "\n",
    "# Maps from 'ham' or 'spam' strings to zero or one\n",
    "def mapper(s):\n",
    "    if s=='spam':\n",
    "        return 0\n",
    "    else:\n",
    "        return 1\n",
    "\n",
    "# Read in the text file\n",
    "f = open('SMSSpamCollection','r')\n",
    "lines = f.readlines()\n",
    "\n",
    "# Break out the test data\n",
    "test_lines = lines[:len(lines)//5]\n",
    "lines = lines[len(lines)//5:]\n",
    "\n",
    "# Instantiate the frequency dictionary and an array to\n",
    "# record whether the line is ham or spam\n",
    "word_dictionary = {}\n",
    "training_labels = np.zeros(len(lines),dtype=int)\n",
    "\n",
    "# Loop over all the training messages\n",
    "for i,l in enumerate(lines):\n",
    "    # Split into words\n",
    "    l = l.lower().split()\n",
    "    # Record the special first word which always ham or spam\n",
    "    if l[0]=='ham':\n",
    "        training_labels[i] = 1\n",
    "    # For each word in the message, record whether the message was ham or spam\n",
    "    for w in l[1:]:\n",
    "        # If we've never seen the word before, add a new dictionary entry\n",
    "        if w not in word_dictionary:\n",
    "            word_dictionary[w] = [1,1]\n",
    "        word_dictionary[w][mapper(l[0])] += 1\n",
    "        \n",
    "# Loop over the test messages\n",
    "test_labels = np.zeros(len(test_lines),dtype=int)\n",
    "test_messages = []\n",
    "for i,l in enumerate(test_lines):\n",
    "    l = l.lower().split()\n",
    "    if l[0]=='ham':\n",
    "        test_labels[i] = 1\n",
    "    test_messages.append(l)\n",
    "\n",
    "counts = np.array([v for v in word_dictionary.values()]).sum(axis=0)"
   ]
  },
  {
   "cell_type": "markdown",
   "id": "minor-bunny",
   "metadata": {},
   "source": [
    "Below, I have provided code skeletons. Your job is to make the code skeletons into an operational naive Bayes spam detector. (you may discard these skeletons if you would prefer to code this from scratch). Note that lines where you will need to change the code are marked with a '#!'.\n",
    "\n",
    "Your first task is train the model:"
   ]
  },
  {
   "cell_type": "code",
   "execution_count": 4,
   "id": "fitted-stake",
   "metadata": {},
   "outputs": [],
   "source": [
    "#What is the prior P(Y=ham) ?\n",
    "ham_prior = sum(training_labels) / len(training_labels)\n",
    "spam_prior = (len(training_labels) - sum(training_labels)) / len(training_labels)\n",
    "\n",
    "# What are the class probabilities P(X=word|Y=ham) for each word?\n",
    "ham_likelihood = {}\n",
    "spam_likelihood = {}\n",
    "for key,val in word_dictionary.items():\n",
    "    ham_likelihood[key] =  val[1] / counts[1]\n",
    "    spam_likelihood[key] = val[0] / counts[0]"
   ]
  },
  {
   "cell_type": "markdown",
   "id": "rural-senate",
   "metadata": {},
   "source": [
    "Your next task is to make predictions on a set of test examples which were held back from the training procedure (see *test_messages* variable).  For each of these messages, compute the ham and spam probabilities."
   ]
  },
  {
   "cell_type": "code",
   "execution_count": 5,
   "id": "terminal-equity",
   "metadata": {},
   "outputs": [
    {
     "name": "stderr",
     "output_type": "stream",
     "text": [
      "C:\\Users\\Esther Lyon Delsordo\\AppData\\Local\\Temp\\ipykernel_20728\\2691061060.py:20: RuntimeWarning: invalid value encountered in double_scalars\n",
      "  posteriors[i,0] = posterior_spam/(posterior_spam + posterior_ham)\n",
      "C:\\Users\\Esther Lyon Delsordo\\AppData\\Local\\Temp\\ipykernel_20728\\2691061060.py:21: RuntimeWarning: invalid value encountered in double_scalars\n",
      "  posteriors[i,1] = posterior_ham/(posterior_spam + posterior_ham)\n"
     ]
    }
   ],
   "source": [
    "# Where to hold the ham and spam posteriors\n",
    "posteriors = np.zeros((len(test_lines),2))\n",
    "\n",
    "# Loop over all the messages in the test set\n",
    "for i,m in enumerate(test_messages):\n",
    "    posterior_ham = ham_prior\n",
    "    posterior_spam = spam_prior\n",
    "    #! Don't forget to include the prior!\n",
    "    # Loop over all the words in each message\n",
    "    for w in m:\n",
    "        # #! Try except handler is because we don't want to calculate the posterior for a word not in the dictionary\n",
    "        try:\n",
    "            posterior_ham *= ham_likelihood[w] #TODO\n",
    "            posterior_spam *= spam_likelihood[w] #TODO\n",
    "        except KeyError:\n",
    "            pass\n",
    "    \n",
    "    # Notice the normalization factor (denominator) \n",
    "    # to turn these into proper probabilities!\n",
    "    posteriors[i,0] = posterior_spam/(posterior_spam + posterior_ham)\n",
    "    posteriors[i,1] = posterior_ham/(posterior_spam + posterior_ham)"
   ]
  },
  {
   "cell_type": "markdown",
   "id": "compatible-fundamentals",
   "metadata": {},
   "source": [
    "Finally, **make a ham/spam prediction based on your posterior probabilities.  Compare these to the labels contained in test_labels.  Report the accuracy of your classifier as percentage correct.**"
   ]
  },
  {
   "cell_type": "code",
   "execution_count": 11,
   "id": "a736eefb",
   "metadata": {},
   "outputs": [],
   "source": [
    "# for i,prob in enumerate(posteriors):\n",
    "#     print(i)\n",
    "#     print(prob)"
   ]
  },
  {
   "cell_type": "code",
   "execution_count": 12,
   "id": "designed-gardening",
   "metadata": {},
   "outputs": [
    {
     "data": {
      "text/plain": [
       "0.9874326750448833"
      ]
     },
     "execution_count": 12,
     "metadata": {},
     "output_type": "execute_result"
    }
   ],
   "source": [
    "prediction = []\n",
    "for i, prob in enumerate(posteriors):\n",
    "    if prob[0] > prob[1]:\n",
    "        prediction.append(0)\n",
    "    else:\n",
    "        prediction.append(1)\n",
    "    \n",
    "is_correct = []\n",
    "for i, pred in enumerate(test_labels):\n",
    "    if pred == prediction[i]:\n",
    "        is_correct.append(1)\n",
    "    else:\n",
    "        is_correct.append(0)\n",
    "        \n",
    "prob_of_correct = sum(is_correct)/len(is_correct)\n",
    "prob_of_correct"
   ]
  },
  {
   "cell_type": "code",
   "execution_count": null,
   "id": "3b4a4907",
   "metadata": {},
   "outputs": [],
   "source": []
  }
 ],
 "metadata": {
  "kernelspec": {
   "display_name": "Python 3 (ipykernel)",
   "language": "python",
   "name": "python3"
  },
  "language_info": {
   "codemirror_mode": {
    "name": "ipython",
    "version": 3
   },
   "file_extension": ".py",
   "mimetype": "text/x-python",
   "name": "python",
   "nbconvert_exporter": "python",
   "pygments_lexer": "ipython3",
   "version": "3.9.12"
  }
 },
 "nbformat": 4,
 "nbformat_minor": 5
}
