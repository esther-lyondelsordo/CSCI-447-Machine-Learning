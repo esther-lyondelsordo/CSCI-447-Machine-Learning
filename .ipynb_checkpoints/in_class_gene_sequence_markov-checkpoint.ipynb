{
 "cells": [
  {
   "cell_type": "markdown",
   "id": "195643d5",
   "metadata": {},
   "source": [
    "## In class exercise: Gene Sequence Clustering\n",
    "Esther Lyon Delsordo <br>\n",
    "group: Grace Erba, Vlad Kovalanko, Tyler Albrethsen, Jeff Chandler\n",
    "\n",
    "### Training a Markov model\n",
    "Load the file genes\\_training.p, which is available in this homework archive.  genes\\_training.p contains 2000 sequences, with each sequence $\\mathbf{s}$ consisting of 20 nucleobases $s_i \\in \\mathrm{Nu},\\; \\mathrm{Nu} = \\{A,T,G,C\\}$.  Each of these sequences is generated from one of two separate Markov processes.  The label (aka class) of the process that generated the sequence is given in the dataset. \n",
    "\n",
    "Learn the Markov model for each class given the training data. \n",
    "$$\n",
    "\\mathcal{A}_{c,kj} = P(s_{i+1}=\\mathrm{Nu}_j|s_{i}=\\mathrm{Nu}_k),\n",
    "$$ \n",
    "which is a 4 by 4 matrix.  As a quick sanity check, each row of $\\mathcal{A}_c$ should sum to one.  **Using these priors and transition matrices, write a function that generates a new sequence given the class**, i.e. simulates a data point. "
   ]
  },
  {
   "cell_type": "code",
   "execution_count": 2,
   "id": "359515f2",
   "metadata": {},
   "outputs": [],
   "source": [
    "import pickle\n",
    "import numpy as np\n",
    "\n",
    "# Define some useful constants\n",
    "N_nucleobases = 4\n",
    "N_classes = 2\n",
    "nucleobases = ['A','T','G','C']\n",
    "\n",
    "# Load the training data using pickle\n",
    "sequences,labels = pickle.load(open('genes_training.p','rb'))\n",
    "\n",
    "# Initialize the class priors and transition matrices\n",
    "pi_0 = np.zeros((N_classes))\n",
    "# pi_1 = np.zeros((N_classes))\n",
    "\n",
    "A_0 = np.zeros((N_nucleobases,N_nucleobases))\n",
    "A_1 = np.zeros((N_nucleobases,N_nucleobases))\n",
    "\n",
    "##### Train prior #####\n",
    "\n",
    "#! Compute class priors\n",
    "pi_0[0] = sum(labels)\n",
    "pi_0[1] = len(labels) - sum(labels)\n",
    "\n",
    "#! Compute unconditional nucleobase probabilities\n",
    "probs = np.zeros((4))\n",
    "for i,seq in enumerate(sequences):\n",
    "    for j,base in enumerate(seq):\n",
    "        if base=='A':\n",
    "            probs[0] += 1\n",
    "        elif base=='T':\n",
    "            probs[1] += 1\n",
    "        elif base=='G':\n",
    "            probs[2] += 1\n",
    "        elif base=='C':\n",
    "            probs[3] += 1\n",
    "        else:\n",
    "            raise Exception(\"Base is not in sequence\")\n",
    "\n",
    "probs /= sum(probs)\n",
    "\n",
    "# Convert from counts to probabilities by normalizing\n",
    "pi_0/=pi_0.sum()\n",
    "# pi_1/=pi_1.sum()\n",
    "\n",
    "##### Train transition matrix #####\n",
    "ha = {'A':0, 'T':1, 'G':2, 'C':3} # make indices for categorical vars\n",
    "\n",
    "for s,l in zip(sequences,labels):\n",
    "    sequence_length = len(s)\n",
    "    for p in range(sequence_length-1):\n",
    "        #! s is a length 20 sequence of nucleobases, for all s, count the number of times that a nucleobase \n",
    "        #! transitions to another nucleobase and record this information in the appropriate transition matrix (A_0 or A_1)\n",
    "        if l == 0:\n",
    "            A_0[ha[s[p-1]],ha[s[p]]] += 1\n",
    "        if l == 1:\n",
    "            A_1[ha[s[p-1]],ha[s[p]]] += 1\n",
    "    \n",
    "# Convert from counts to probabilities by row normalization\n",
    "A_0/=A_0.sum(axis=1)[:,np.newaxis]\n",
    "A_1/=A_1.sum(axis=1)[:,np.newaxis]\n",
    "\n",
    "##### Generate a synthetic sequence #####\n",
    "def generate_new_sequence(A,pi,n=20):\n",
    "    \"\"\"  \n",
    "    Arguments:\n",
    "    A -> Nucleobase transition matrix\n",
    "    pi -> Prior\n",
    "    n -> length of sequence to generate\n",
    "    \"\"\"\n",
    "    # Draw from the prior for the first nucleobase\n",
    "    s = [np.random.choice(nucleobases,p = list(pi))]\n",
    "    ha = {'A':0, 'T':1, 'G':2, 'C':3}\n",
    "    #! Write the code that uses the transition matrix to produce a length n sample\n",
    "    for i in range(1, n):\n",
    "        s.append(np.random.choice(nucleobases, p = A[ha[s[i-1]]]))\n",
    "    s = ''.join(s)\n",
    "    return s\n"
   ]
  },
  {
   "cell_type": "markdown",
   "id": "419d4efe",
   "metadata": {},
   "source": [
    "### A Markov classifier\n",
    "Having the prior and transition probabilities gives you the ability to evaluate the likelihood of a sequence for a given class as:\n",
    "$$\n",
    "P(\\mathbf{s}) = P(s_1|\\mathbf{\\pi}_c) \\prod_{i=1}^{n-1} P(s_{i+1}|s_{i},\\mathcal{A}_c),\n",
    "$$\n",
    "where $\\mathbf{\\pi}_c$ is the class-conditioned prior probability, and $\\mathcal{A}_c$ is the class-conditioned transition matrix.  Comparing the computed likelihood for a given sequence between different classes forms the basis of a classifier in a very similar manner to naive Bayes.  The difference this time is that now each random variable depends on the one before it in the sequence, whereas in naive Bayes we assumed that all the random variables were independent.    \n",
    "\n",
    "Load the file genes\\_test.p, which is similar to genes\\_training.p.  **For each sequence, compute the likelihood for both classes and assign a label.  Compare this predicted label to the known one, and report the test set accuracy**.  As a point of comparison, my implementation achieved 98.7\\% accuracy."
   ]
  },
  {
   "cell_type": "code",
   "execution_count": 3,
   "id": "3fa05be4",
   "metadata": {
    "scrolled": true
   },
   "outputs": [
    {
     "name": "stdout",
     "output_type": "stream",
     "text": [
      "Classifier accuracy:  0.988\n"
     ]
    }
   ],
   "source": [
    "sequences_test,labels_test = pickle.load(open('genes_test.p','rb'))\n",
    "sequence_probabilities_0 = []\n",
    "sequence_probabilities_1 = []\n",
    "\n",
    "for i,s in enumerate(sequences_test):\n",
    "    #! Write a function that evaluates the probability of class membership for each class by multiplying the \n",
    "    #! prior by the likelihood over all symbol transitions\n",
    "    letters = [*s]\n",
    "    sequence_probabilities_0.append(probs[ha[letters[0]]]) #put the prior in\n",
    "    sequence_probabilities_1.append(probs[ha[letters[0]]])\n",
    "    for letter in range(1,len(letters)):\n",
    "        sequence_probabilities_0[i] *= A_0[ha[letters[letter-1]], ha[letters[letter]]]\n",
    "        sequence_probabilities_1[i] *= A_1[ha[letters[letter-1]], ha[letters[letter]]]\n",
    "\n",
    "prediction = []\n",
    "for i in range(len(sequences_test)):\n",
    "    if sequence_probabilities_0[i] > sequence_probabilities_1[i]:\n",
    "        prediction.append(0)\n",
    "    else:\n",
    "        prediction.append(1)\n",
    "    \n",
    "is_correct = []\n",
    "for i in range(len(prediction)):\n",
    "    if prediction[i] == labels_test[i]:\n",
    "        is_correct.append(1)\n",
    "    else:\n",
    "        is_correct.append(0)\n",
    "        \n",
    "# Calculate accuracy of the classifier\n",
    "prob_of_correct = sum(is_correct)/len(is_correct)\n",
    "print(\"Classifier accuracy: \", prob_of_correct)\n"
   ]
  },
  {
   "cell_type": "markdown",
   "id": "6139a6d3",
   "metadata": {},
   "source": [
    "**Turn in a document with the names of those with whom you worked, an example sequence generated by your model for each class, and a statement of your classifier's overall accuracy.**"
   ]
  },
  {
   "cell_type": "code",
   "execution_count": 6,
   "id": "3c19b5d8",
   "metadata": {},
   "outputs": [
    {
     "data": {
      "text/plain": [
       "'AATCAATTTAGATCATGAAA'"
      ]
     },
     "execution_count": 6,
     "metadata": {},
     "output_type": "execute_result"
    }
   ],
   "source": [
    "generate_new_sequence(A_0,probs)"
   ]
  },
  {
   "cell_type": "code",
   "execution_count": 5,
   "id": "8c720119",
   "metadata": {},
   "outputs": [
    {
     "data": {
      "text/plain": [
       "'TGTCCGAGGAACACACCCAG'"
      ]
     },
     "execution_count": 5,
     "metadata": {},
     "output_type": "execute_result"
    }
   ],
   "source": [
    "generate_new_sequence(A_1,probs)"
   ]
  },
  {
   "cell_type": "code",
   "execution_count": null,
   "id": "6e21a63b",
   "metadata": {},
   "outputs": [],
   "source": []
  }
 ],
 "metadata": {
  "kernelspec": {
   "display_name": "Python 3 (ipykernel)",
   "language": "python",
   "name": "python3"
  },
  "language_info": {
   "codemirror_mode": {
    "name": "ipython",
    "version": 3
   },
   "file_extension": ".py",
   "mimetype": "text/x-python",
   "name": "python",
   "nbconvert_exporter": "python",
   "pygments_lexer": "ipython3",
   "version": "3.9.12"
  }
 },
 "nbformat": 4,
 "nbformat_minor": 5
}
