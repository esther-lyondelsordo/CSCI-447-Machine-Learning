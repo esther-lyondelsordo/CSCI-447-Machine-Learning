{
  "nbformat": 4,
  "nbformat_minor": 0,
  "metadata": {
    "colab": {
      "provenance": [],
      "authorship_tag": "ABX9TyPPzUUxU9fcdkQG88wftm5I",
      "include_colab_link": true
    },
    "kernelspec": {
      "name": "python3",
      "display_name": "Python 3"
    },
    "language_info": {
      "name": "python"
    }
  },
  "cells": [
    {
      "cell_type": "markdown",
      "metadata": {
        "id": "view-in-github",
        "colab_type": "text"
      },
      "source": [
        "<a href=\"https://colab.research.google.com/github/esther-lyondelsordo/CSCI-447-Machine-Learning/blob/main/ml_hw1.ipynb\" target=\"_parent\"><img src=\"https://colab.research.google.com/assets/colab-badge.svg\" alt=\"Open In Colab\"/></a>"
      ]
    },
    {
      "cell_type": "code",
      "execution_count": null,
      "metadata": {
        "id": "mHKEWB02WH38"
      },
      "outputs": [],
      "source": []
    },
    {
      "cell_type": "markdown",
      "source": [
        "# Problem 1: Legal Reasoning\n"
      ],
      "metadata": {
        "id": "WuXhGEdGWWgQ"
      }
    },
    {
      "cell_type": "code",
      "source": [],
      "metadata": {
        "id": "-RzFTAerWitd"
      },
      "execution_count": null,
      "outputs": []
    },
    {
      "cell_type": "markdown",
      "source": [
        "# Problem 2: Poisson Distribution MLE"
      ],
      "metadata": {
        "id": "QPcZ5d81Wk1o"
      }
    },
    {
      "cell_type": "code",
      "source": [],
      "metadata": {
        "id": "5SOUNd8NWw-V"
      },
      "execution_count": null,
      "outputs": []
    },
    {
      "cell_type": "markdown",
      "source": [
        "# Problem 3: Naive Bayes"
      ],
      "metadata": {
        "id": "KfpooLNIWx6Q"
      }
    },
    {
      "cell_type": "code",
      "source": [],
      "metadata": {
        "id": "cS7HzZVKW3dn"
      },
      "execution_count": null,
      "outputs": []
    }
  ]
}