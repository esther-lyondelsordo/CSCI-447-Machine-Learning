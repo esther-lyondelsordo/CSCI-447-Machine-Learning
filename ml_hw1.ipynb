{
  "nbformat": 4,
  "nbformat_minor": 0,
  "metadata": {
    "colab": {
      "provenance": [],
      "authorship_tag": "ABX9TyMJTB2el+pRhCcxUXcwWbIQ",
      "include_colab_link": true
    },
    "kernelspec": {
      "name": "python3",
      "display_name": "Python 3"
    },
    "language_info": {
      "name": "python"
    }
  },
  "cells": [
    {
      "cell_type": "markdown",
      "metadata": {
        "id": "view-in-github",
        "colab_type": "text"
      },
      "source": [
        "<a href=\"https://colab.research.google.com/github/esther-lyondelsordo/CSCI-447-Machine-Learning/blob/main/ml_hw1.ipynb\" target=\"_parent\"><img src=\"https://colab.research.google.com/assets/colab-badge.svg\" alt=\"Open In Colab\"/></a>"
      ]
    },
    {
      "cell_type": "markdown",
      "source": [
        "<h1> Problem 1: Legal Reasoning </h1>\n",
        "Suppose a crime has been committed. Blood is found at the scene for which there is no innocent explanation. It is of a type which is present in 1% of the population.\n",
        "\n",
        "<h3> 1. prosecutor's fallacy </h3> \n",
        "The prosecutor claims: “There is a 1% chance that the defendant would have the crime blood type if he were innocent. Thus there is a 99% chance that he guilty”. This is known as the prosecutor’s fallacy. What is wrong with this argument?\n"
      ],
      "metadata": {
        "id": "WuXhGEdGWWgQ"
      }
    },
    {
      "cell_type": "markdown",
      "source": [
        "The prosecutor is assuming that $ P(Guilty | Blood Type) = P(Blood Type | Guilty) $. According to Bayes Theorem, this cannot be true. By Bayes, the correct relationship is: $ P(Guilty | Blood Type) = \\frac{P(Blood Type | Guilty)P(Guilty)}{P(Blood Type)}$"
      ],
      "metadata": {
        "id": "pe8dh9lu9ZTy"
      }
    },
    {
      "cell_type": "markdown",
      "source": [
        "<h3> 2. defender's fallacy </h3>\n",
        "The defender claims: “The crime occurred in a city of 800,000 people. The blood type would be found in approximately 8000 people. The evidence has provided a probability of just 1 in 8000 that the defendant is guilty, and thus has no relevance.” This is known as the defender’s fallacy. What is wrong with this argument?"
      ],
      "metadata": {
        "id": "Fanvzqnh9cN5"
      }
    },
    {
      "cell_type": "markdown",
      "source": [
        "The defender is claiming that $ P(Guilty | Blood Type) = P(Blood Type) $. As we can see from the Bayes Theorem representation above, this logic is not sound."
      ],
      "metadata": {
        "id": "qOXStCco9cy-"
      }
    },
    {
      "cell_type": "markdown",
      "source": [
        "<h1> Problem 2: Poisson Distribution MLE </h1>\n",
        "The Poisson distribution is a useful model when we would like to model a count as a random variable. For\n",
        "example, the number of letters a person gets in a day is an example of something that could be Poissondistributed (other examples: the number of deer that appear on a game camera in a day, the number of\n",
        "meteorites to strike the earth in a year). The probability mass function of a Poisson distribution is\n",
        "$$ P(X = k) = \\frac{λ^ke^{-λ}}{k!}$$\n",
        "where k is the number of times an event occurs, and λ is the rate parameter. Given some dataset\n",
        "X1, X2, . . . , Xm, derive the maximum likelihood estimator for λ. Evaluate your estimator for the data\n",
        "set [1, 2, 2, 3]. (HINT: the procedure here is just like for the Bernoulli distribution: logarithm, derivative, set\n",
        "to zero, solve).\n"
      ],
      "metadata": {
        "id": "QPcZ5d81Wk1o"
      }
    },
    {
      "cell_type": "code",
      "source": [],
      "metadata": {
        "id": "5SOUNd8NWw-V"
      },
      "execution_count": null,
      "outputs": []
    },
    {
      "cell_type": "markdown",
      "source": [
        "<h1> Problem 3: Naive Bayes </h1>\n",
        "When utilizing naive Bayes, we have relied upon maximum likelihood estimation to estimate the parameters of categorical distributions over words conditioned on a class, i.e.\n",
        "$$ P(X = x|C = c) $$ \n",
        "for x in a vocabulary and c in a set of classes. Describe what happens if, having adopted this strategy,\n",
        "we attempt to apply naive Bayes to a message that contains a word that did not appear in the training\n",
        "corpus."
      ],
      "metadata": {
        "id": "KfpooLNIWx6Q"
      }
    },
    {
      "cell_type": "markdown",
      "source": [
        "We wouldn't have any information about the experimental probability of the word belonging to a certain class. This would mean that the priors would be unreliable for this data point."
      ],
      "metadata": {
        "id": "16JfS-wiAJht"
      }
    },
    {
      "cell_type": "code",
      "source": [],
      "metadata": {
        "id": "8qY46NVlAaf-"
      },
      "execution_count": null,
      "outputs": []
    }
  ]
}